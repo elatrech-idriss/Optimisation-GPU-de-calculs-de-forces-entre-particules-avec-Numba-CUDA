{
 "cells": [
  {
   "cell_type": "code",
   "execution_count": 1,
   "id": "703bb32e-192a-458b-b3ee-bee59381c978",
   "metadata": {},
   "outputs": [
    {
     "name": "stdout",
     "output_type": "stream",
     "text": [
      "🧠 Durée de calcul CPU : 18.8959 secondes\n"
     ]
    },
    {
     "name": "stderr",
     "output_type": "stream",
     "text": [
      "/opt/conda/lib/python3.12/site-packages/numba/cuda/dispatcher.py:536: NumbaPerformanceWarning: \u001b[1mGrid size 12 will likely result in GPU under-utilization due to low occupancy.\u001b[0m\n",
      "  warn(NumbaPerformanceWarning(msg))\n"
     ]
    },
    {
     "name": "stdout",
     "output_type": "stream",
     "text": [
      "⚡ Durée de calcul GPU : 0.4475 secondes\n"
     ]
    }
   ],
   "source": [
    "import numpy as np\n",
    "import time\n",
    "from numba import cuda\n",
    "\n",
    "# ==================== GPU - Calcul parallèle des interactions ====================\n",
    "@cuda.jit #customization kernel \n",
    "def calcul_interactions_particules_gpu(position_x, position_y, vitesse_x, vitesse_y, charges, nombre_total, pas_temps):\n",
    "    index_particule = cuda.grid(1)\n",
    "    if index_particule < nombre_total:\n",
    "        somme_force_x = 0.0\n",
    "        somme_force_y = 0.0\n",
    "\n",
    "        for autre_particule in range(nombre_total):\n",
    "            if index_particule != autre_particule:\n",
    "                vecteur_position_diff_x = position_x[autre_particule] - position_x[index_particule]\n",
    "                vecteur_position_diff_y = position_y[autre_particule] - position_y[index_particule]\n",
    "                distance = (vecteur_position_diff_x ** 2 + vecteur_position_diff_y ** 2 + 1e-9) ** 0.5\n",
    "\n",
    "                force = (charges[index_particule] * charges[autre_particule]) / (distance ** 2)\n",
    "                somme_force_x += vecteur_position_diff_x / distance * force\n",
    "                somme_force_y += vecteur_position_diff_y / distance * force\n",
    "\n",
    "        vitesse_x[index_particule] += somme_force_x * pas_temps\n",
    "        vitesse_y[index_particule] += somme_force_y * pas_temps\n",
    "        position_x[index_particule] += vitesse_x[index_particule] * pas_temps\n",
    "        position_y[index_particule] += vitesse_y[index_particule] * pas_temps\n",
    "\n",
    "# ==================== CPU - Simulation séquentielle ====================\n",
    "def calcul_interactions_particules_cpu(position_x, position_y, vitesse_x, vitesse_y, charges, nombre_total, pas_temps):\n",
    "    for particule_courante in range(nombre_total):\n",
    "        somme_force_x = 0.0\n",
    "        somme_force_y = 0.0\n",
    "\n",
    "        for autre_particule in range(nombre_total):\n",
    "            if particule_courante != autre_particule:\n",
    "                vecteur_position_diff_x = position_x[autre_particule] - position_x[particule_courante]\n",
    "                vecteur_position_diff_y = position_y[autre_particule] - position_y[particule_courante]\n",
    "                distance = np.sqrt(vecteur_position_diff_x ** 2 + vecteur_position_diff_y ** 2 + 1e-9)\n",
    "\n",
    "                force = (charges[particule_courante] * charges[autre_particule]) / (distance ** 2)\n",
    "                somme_force_x += vecteur_position_diff_x / distance * force\n",
    "                somme_force_y += vecteur_position_diff_y / distance * force\n",
    "\n",
    "        vitesse_x[particule_courante] += somme_force_x * pas_temps\n",
    "        vitesse_y[particule_courante] += somme_force_y * pas_temps\n",
    "        position_x[particule_courante] += vitesse_x[particule_courante] * pas_temps\n",
    "        position_y[particule_courante] += vitesse_y[particule_courante] * pas_temps\n",
    "\n",
    "# ==================== Paramètres de simulation ====================\n",
    "nombre_particules = 3000\n",
    "intervalle_temporel = 0.01\n",
    "\n",
    "positions_x = np.random.rand(nombre_particules).astype(np.float32) * 100  # initialisation des variable \n",
    "positions_y = np.random.rand(nombre_particules).astype(np.float32) * 100\n",
    "vitesses_x = np.zeros(nombre_particules, dtype=np.float32)\n",
    "vitesses_y = np.zeros(nombre_particules, dtype=np.float32)\n",
    "valeurs_charge = (np.random.rand(nombre_particules).astype(np.float32) - 0.5) * 2  # entre -1 et 1\n",
    "\n",
    "# ==================== Simulation CPU ====================\n",
    "debut_cpu = time.time()    \n",
    "calcul_interactions_particules_cpu(\n",
    "    positions_x.copy(), positions_y.copy(),\n",
    "    vitesses_x.copy(), vitesses_y.copy(),\n",
    "    valeurs_charge.copy(), nombre_particules, intervalle_temporel\n",
    ")\n",
    "fin_cpu = time.time()\n",
    "print(f\"🧠 Durée de calcul CPU : {fin_cpu - debut_cpu:.4f} secondes\")\n",
    "\n",
    "# ==================== Préparation et lancement GPU ====================\n",
    "gpu_pos_x = cuda.to_device(positions_x) # Envoi des données vers le GPU avec la fonction to_device\n",
    "gpu_pos_y = cuda.to_device(positions_y)\n",
    "gpu_vit_x = cuda.to_device(vitesses_x)\n",
    "gpu_vit_y = cuda.to_device(vitesses_y)\n",
    "gpu_charges = cuda.to_device(valeurs_charge)\n",
    "\n",
    "threads_par_bloc = 256\n",
    "nombre_blocs = (nombre_particules + threads_par_bloc - 1) // threads_par_bloc  ## je détermines combien de threads CUDA vont s’exécuter, et comment ils sont organisés. \n",
    "\n",
    "debut_gpu = time.time() #exécutée par des milliers de threads CUDA en parallèle, chacun s’occupant d’une particule.\n",
    "calcul_interactions_particules_gpu[nombre_blocs, threads_par_bloc]( \n",
    "    gpu_pos_x, gpu_pos_y,\n",
    "    gpu_vit_x, gpu_vit_y,\n",
    "    gpu_charges, nombre_particules, intervalle_temporel\n",
    ")\n",
    "cuda.synchronize()\n",
    "fin_gpu = time.time()\n",
    "\n",
    "resultat_positions_x = gpu_pos_x.copy_to_host() #je copies les résultats depuis la mémoire du GPU vers la mémoire principale (CPU),   #afin de pouvoir les afficher, sauvegarder, ou comparer.\n",
    "resultat_positions_y = gpu_pos_y.copy_to_host()\n",
    "resultat_vitesses_x = gpu_vit_x.copy_to_host()\n",
    "resultat_vitesses_y = gpu_vit_y.copy_to_host()\n",
    "print(f\"⚡ Durée de calcul GPU : {fin_gpu - debut_gpu:.4f} secondes\")\n"
   ]
  }
 ],
 "metadata": {
  "kernelspec": {
   "display_name": "Python 3 (ipykernel)",
   "language": "python",
   "name": "python3"
  },
  "language_info": {
   "codemirror_mode": {
    "name": "ipython",
    "version": 3
   },
   "file_extension": ".py",
   "mimetype": "text/x-python",
   "name": "python",
   "nbconvert_exporter": "python",
   "pygments_lexer": "ipython3",
   "version": "3.12.9"
  }
 },
 "nbformat": 4,
 "nbformat_minor": 5
}
